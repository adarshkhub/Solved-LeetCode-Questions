{
 "cells": [
  {
   "cell_type": "code",
   "execution_count": null,
   "id": "019e4c7f",
   "metadata": {},
   "outputs": [],
   "source": [
    "#The Fibonacci numbers, commonly denoted F(n) form a sequence, called the Fibonacci sequence, \n",
    "#such that each number is the sum of the two preceding ones, starting from 0 and 1. That is,"
   ]
  }
 ],
 "metadata": {
  "kernelspec": {
   "display_name": "Python 3 (ipykernel)",
   "language": "python",
   "name": "python3"
  },
  "language_info": {
   "codemirror_mode": {
    "name": "ipython",
    "version": 3
   },
   "file_extension": ".py",
   "mimetype": "text/x-python",
   "name": "python",
   "nbconvert_exporter": "python",
   "pygments_lexer": "ipython3",
   "version": "3.11.5"
  }
 },
 "nbformat": 4,
 "nbformat_minor": 5
}
