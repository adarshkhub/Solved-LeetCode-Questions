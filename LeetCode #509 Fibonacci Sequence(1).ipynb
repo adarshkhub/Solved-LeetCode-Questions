{
 "cells": [
  {
   "cell_type": "code",
   "execution_count": 23,
   "id": "2347194f",
   "metadata": {},
   "outputs": [],
   "source": [
    "#The Fibonacci numbers, commonly denoted F(n) form a sequence, called the Fibonacci sequence, \n",
    "#such that each number is the sum of the two preceding ones, starting from 0 and 1. That is,\n",
    "\n",
    "#F(0) = 0, F(1) = 1\n",
    "#F(n) = F(n - 1) + F(n - 2), for n > 1.\n",
    "\n",
    "#given n, calculate F(n)\n",
    "\n",
    "\n",
    "\n",
    "def fibonacci(N):\n",
    "    if N==0:\n",
    "        return 0\n",
    "    if N==1:\n",
    "        return 1 \n",
    "    else:\n",
    "        return ((fibonacci(N-1)) + (fibonacci(N-2)))\n",
    "    print(N)\n"
   ]
  },
  {
   "cell_type": "code",
   "execution_count": 24,
   "id": "761a1c42",
   "metadata": {},
   "outputs": [
    {
     "data": {
      "text/plain": [
       "1"
      ]
     },
     "execution_count": 24,
     "metadata": {},
     "output_type": "execute_result"
    }
   ],
   "source": [
    "fibonacci(2)"
   ]
  },
  {
   "cell_type": "code",
   "execution_count": 25,
   "id": "0b629ad2",
   "metadata": {},
   "outputs": [
    {
     "data": {
      "text/plain": [
       "3"
      ]
     },
     "execution_count": 25,
     "metadata": {},
     "output_type": "execute_result"
    }
   ],
   "source": [
    "fibonacci(4)"
   ]
  },
  {
   "cell_type": "code",
   "execution_count": 26,
   "id": "add88633",
   "metadata": {},
   "outputs": [
    {
     "data": {
      "text/plain": [
       "55"
      ]
     },
     "execution_count": 26,
     "metadata": {},
     "output_type": "execute_result"
    }
   ],
   "source": [
    "fibonacci(10)"
   ]
  },
  {
   "cell_type": "code",
   "execution_count": 27,
   "id": "96c86474",
   "metadata": {},
   "outputs": [
    {
     "data": {
      "text/plain": [
       "21"
      ]
     },
     "execution_count": 27,
     "metadata": {},
     "output_type": "execute_result"
    }
   ],
   "source": [
    "fibonacci(8)"
   ]
  },
  {
   "cell_type": "code",
   "execution_count": null,
   "id": "2e5b3813",
   "metadata": {},
   "outputs": [],
   "source": []
  }
 ],
 "metadata": {
  "kernelspec": {
   "display_name": "Python 3 (ipykernel)",
   "language": "python",
   "name": "python3"
  },
  "language_info": {
   "codemirror_mode": {
    "name": "ipython",
    "version": 3
   },
   "file_extension": ".py",
   "mimetype": "text/x-python",
   "name": "python",
   "nbconvert_exporter": "python",
   "pygments_lexer": "ipython3",
   "version": "3.11.5"
  }
 },
 "nbformat": 4,
 "nbformat_minor": 5
}
