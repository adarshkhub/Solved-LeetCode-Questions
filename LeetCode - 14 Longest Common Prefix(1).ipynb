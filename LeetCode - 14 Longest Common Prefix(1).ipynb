{
 "cells": [
  {
   "cell_type": "code",
   "execution_count": 6,
   "id": "07d27ffd",
   "metadata": {},
   "outputs": [],
   "source": [
    "# Find the longest common prefix string amongst an array of strings. \n",
    "#If there is no common prefix, return an empty string \"\"\n",
    "\n",
    "\n",
    "strs = [\"car\", \"cat\", \"cast\", \"call\", \"canterbury\"]\n",
    "    \n",
    "    \n",
    "def longestcommonprefix(strs):\n",
    "\n",
    "    if len(strs) == 0:\n",
    "        return(\"\")\n",
    "    if len(strs) == 1:\n",
    "        return(strs[0])\n",
    "\n",
    "    pref = strs[0]\n",
    "    plen = len(pref)\n",
    "\n",
    "    for s in strs[1:]:\n",
    "        while pref != s[0:plen]:\n",
    "            pref = pref[0:(plen-1)]\n",
    "            plen -= 1\n",
    "        \n",
    "            if plen == 0:\n",
    "                return(\"\")\n",
    "    print(pref)"
   ]
  },
  {
   "cell_type": "code",
   "execution_count": 7,
   "id": "9e55fabf",
   "metadata": {},
   "outputs": [
    {
     "name": "stdout",
     "output_type": "stream",
     "text": [
      "ca\n"
     ]
    }
   ],
   "source": [
    "longestcommonprefix(strs)"
   ]
  },
  {
   "cell_type": "code",
   "execution_count": null,
   "id": "6178952a",
   "metadata": {},
   "outputs": [],
   "source": []
  }
 ],
 "metadata": {
  "kernelspec": {
   "display_name": "Python 3 (ipykernel)",
   "language": "python",
   "name": "python3"
  },
  "language_info": {
   "codemirror_mode": {
    "name": "ipython",
    "version": 3
   },
   "file_extension": ".py",
   "mimetype": "text/x-python",
   "name": "python",
   "nbconvert_exporter": "python",
   "pygments_lexer": "ipython3",
   "version": "3.11.5"
  }
 },
 "nbformat": 4,
 "nbformat_minor": 5
}
