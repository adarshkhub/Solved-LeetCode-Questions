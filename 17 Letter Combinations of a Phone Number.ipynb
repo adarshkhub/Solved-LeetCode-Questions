{
 "cells": [
  {
   "cell_type": "code",
   "execution_count": null,
   "id": "94dbad55-cdca-40ed-9e23-0dcc681e14c2",
   "metadata": {},
   "outputs": [],
   "source": [
    "#Backtracking python problem\n",
    "\n",
    "Given a string containing digits from 2-9 inclusive, return all possible letter combinations that the number could represent. Return the answer in any order.\n",
    "\n",
    "A mapping of digits to letters (just like on the telephone buttons) is given below. Note that 1 does not map to any letters.\n",
    "\n",
    "\n",
    " \n",
    "\n",
    "Example 1:\n",
    "\n",
    "Input: digits = \"23\"\n",
    "Output: [\"ad\",\"ae\",\"af\",\"bd\",\"be\",\"bf\",\"cd\",\"ce\",\"cf\"]\n",
    "Example 2:\n",
    "\n",
    "Input: digits = \"\"\n",
    "Output: []\n",
    "Example 3:\n",
    "\n",
    "Input: digits = \"2\"\n",
    "Output: [\"a\",\"b\",\"c\"]\n",
    " \n",
    "\n",
    "Constraints:\n",
    "\n",
    "0 <= digits.length <= 4\n",
    "digits[i] is a digit in the range ['2', '9']."
   ]
  },
  {
   "cell_type": "code",
   "execution_count": null,
   "id": "e224bc58-71d2-4004-8dad-d8ec8f976e45",
   "metadata": {},
   "outputs": [],
   "source": [
    "\n",
    "# convert number in digits into a list of individual numbers\n",
    "#\n",
    "def letterCombinations(digits):\n",
    "    dic = {\n",
    "    2 : \"abc\",\n",
    "    3 : \"def\",\n",
    "    4 : \"ghi\",\n",
    "    5 : \"jkl\",\n",
    "    6 : \"mno\",\n",
    "    7 : \"pqr\",\n",
    "    8 : \"tuv\",\n",
    "    9 : \"wxyz\"}\n",
    "\n",
    "   def backtrack(combination, next_digits):\n",
    "\n",
    "            for letter in phone[next_digits[0]]:\n",
    "                backtrack(combination + letter, next_digits[1:])\n",
    "                            \n",
    "            \n",
    "           if not next_digits:\n",
    "                res.append(combination)\n",
    "                return\n",
    "            \n",
    "        \n",
    "        backtrack(\"\", digits)\n",
    "        return res\n"
   ]
  },
  {
   "cell_type": "code",
   "execution_count": 2,
   "id": "93206126-2966-4907-9301-3e36f27b2713",
   "metadata": {},
   "outputs": [
    {
     "name": "stdout",
     "output_type": "stream",
     "text": [
      "{2: 'abc', 3: 'def', 4: 'ghi', 5: 'jkl', 6: 'mno', 7: 'pqr', 8: 'tuv', 9: 'wxyz'}\n"
     ]
    }
   ],
   "source": [
    "\n",
    "\n",
    "\n",
    "print(dic)"
   ]
  },
  {
   "cell_type": "code",
   "execution_count": null,
   "id": "f96f3e18-d320-449a-890e-acfa611979d8",
   "metadata": {},
   "outputs": [],
   "source": []
  },
  {
   "cell_type": "code",
   "execution_count": null,
   "id": "ab1fbb6b-a27a-4947-8c84-229d5ab3f165",
   "metadata": {},
   "outputs": [],
   "source": [
    "solution:\n",
    "\n",
    "       \n",
    "        phone = {\"2\": \"abc\", \"3\": \"def\", \"4\": \"ghi\", \"5\": \"jkl\", \"6\": \"mno\", \"7\": \"pqrs\", \"8\": \"tuv\", \"9\": \"wxyz\"}\n",
    "        res = []\n",
    "        \n",
    "        def backtrack(combination, next_digits):\n",
    "            if not next_digits:\n",
    "                res.append(combination)\n",
    "                return\n",
    "            \n",
    "            for letter in phone[next_digits[0]]:\n",
    "                backtrack(combination + letter, next_digits[1:])\n",
    "        \n",
    "        backtrack(\"\", digits)\n",
    "        return res"
   ]
  },
  {
   "cell_type": "code",
   "execution_count": null,
   "id": "3396573c-c468-4ef5-b8e0-35e9fc5942e4",
   "metadata": {},
   "outputs": [],
   "source": [
    "#Full Solution\n",
    "    def letterCombinations(self, digits):\n",
    "        if not digits:\n",
    "            return []\n",
    "        \n",
    "        phone = {\"2\": \"abc\", \"3\": \"def\", \"4\": \"ghi\", \"5\": \"jkl\", \"6\": \"mno\", \"7\": \"pqrs\", \"8\": \"tuv\", \"9\": \"wxyz\"}\n",
    "        res = []\n",
    "        \n",
    "        def backtrack(combination, next_digits):\n",
    "            if not next_digits:\n",
    "                res.append(combination)\n",
    "                return\n",
    "            \n",
    "            for letter in phone[next_digits[0]]:\n",
    "                backtrack(combination + letter, next_digits[1:])\n",
    "        \n",
    "        backtrack(\"\", digits)\n",
    "        return res   "
   ]
  }
 ],
 "metadata": {
  "kernelspec": {
   "display_name": "Python 3 (ipykernel)",
   "language": "python",
   "name": "python3"
  },
  "language_info": {
   "codemirror_mode": {
    "name": "ipython",
    "version": 3
   },
   "file_extension": ".py",
   "mimetype": "text/x-python",
   "name": "python",
   "nbconvert_exporter": "python",
   "pygments_lexer": "ipython3",
   "version": "3.12.4"
  }
 },
 "nbformat": 4,
 "nbformat_minor": 5
}
