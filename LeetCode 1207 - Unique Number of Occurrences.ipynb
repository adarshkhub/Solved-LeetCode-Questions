{
 "cells": [
  {
   "cell_type": "code",
   "execution_count": null,
   "id": "dc95d52a",
   "metadata": {},
   "outputs": [],
   "source": [
    "#Given an array of integers arr, return true \n",
    "#if the number of occurrences of each value in the array is unique or false otherwise.\n",
    "\n",
    "#Example 1:\n",
    "\n",
    "#Input: arr = [1,2,2,1,1,3]\n",
    "#Output: true\n",
    "#Explanation: The value 1 has 3 occurrences, 2 has 2 and 3 has 1. No two values have the same number of occurrences.\n",
    "#Example 2:\n",
    "\n",
    "#Input: arr = [1,2]\n",
    "#Output: false\n",
    "#Example 3:\n",
    "\n",
    "#Input: arr = [-3,0,1,-3,1,1,1,-3,10,0]\n",
    "#Output: true"
   ]
  },
  {
   "cell_type": "code",
   "execution_count": null,
   "id": "8d3d6927",
   "metadata": {},
   "outputs": [],
   "source": [
    "\n",
    "store = {}\n",
    "\n",
    "for i in arr:\n",
    "    if i in store:\n",
    "        store[i] += 1\n",
    "    else store[i] = 1\n",
    "    \n"
   ]
  }
 ],
 "metadata": {
  "kernelspec": {
   "display_name": "Python 3 (ipykernel)",
   "language": "python",
   "name": "python3"
  },
  "language_info": {
   "codemirror_mode": {
    "name": "ipython",
    "version": 3
   },
   "file_extension": ".py",
   "mimetype": "text/x-python",
   "name": "python",
   "nbconvert_exporter": "python",
   "pygments_lexer": "ipython3",
   "version": "3.11.5"
  }
 },
 "nbformat": 4,
 "nbformat_minor": 5
}
