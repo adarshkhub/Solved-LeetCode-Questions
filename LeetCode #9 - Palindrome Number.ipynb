{
 "cells": [
  {
   "cell_type": "code",
   "execution_count": 1,
   "id": "e16cc1a5",
   "metadata": {},
   "outputs": [],
   "source": [
    "# Determine whether an integer is a palindrome\n",
    "\n",
    "# 1331 is true\n",
    "# -1331 is considered not a palindrome\n",
    "# Bonus, make it so that the user can input the number\n",
    "\n",
    "def palindromecheck(n):\n",
    "    \n",
    "    if (str(n) == str(n)[::-1]):\n",
    "        print(\"Yes this is a palindrome\")\n",
    "    else:\n",
    "            print(\"No, this is not a palindrome\")\n"
   ]
  },
  {
   "cell_type": "code",
   "execution_count": 2,
   "id": "09175f69",
   "metadata": {},
   "outputs": [
    {
     "name": "stdout",
     "output_type": "stream",
     "text": [
      "Yes this is a palindrome\n"
     ]
    }
   ],
   "source": [
    "palindromecheck(1331)"
   ]
  },
  {
   "cell_type": "code",
   "execution_count": 3,
   "id": "69a0b89a",
   "metadata": {},
   "outputs": [
    {
     "name": "stdout",
     "output_type": "stream",
     "text": [
      "No, this is not a palindrome\n"
     ]
    }
   ],
   "source": [
    "palindromecheck(1421)"
   ]
  },
  {
   "cell_type": "code",
   "execution_count": null,
   "id": "d47f577e",
   "metadata": {},
   "outputs": [],
   "source": []
  }
 ],
 "metadata": {
  "kernelspec": {
   "display_name": "Python 3 (ipykernel)",
   "language": "python",
   "name": "python3"
  },
  "language_info": {
   "codemirror_mode": {
    "name": "ipython",
    "version": 3
   },
   "file_extension": ".py",
   "mimetype": "text/x-python",
   "name": "python",
   "nbconvert_exporter": "python",
   "pygments_lexer": "ipython3",
   "version": "3.11.5"
  }
 },
 "nbformat": 4,
 "nbformat_minor": 5
}
