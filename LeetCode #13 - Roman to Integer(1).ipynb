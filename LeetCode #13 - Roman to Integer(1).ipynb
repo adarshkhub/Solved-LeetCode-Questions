{
 "cells": [
  {
   "cell_type": "code",
   "execution_count": 3,
   "id": "f0af0b6d",
   "metadata": {},
   "outputs": [],
   "source": [
    "\n",
    "def romantoint(s):\n",
    "\n",
    "    roman_table = {\"I\":    1,\n",
    "                   \"V\":    5,\n",
    "                   \"X\":   10,\n",
    "                   \"L\":   50,\n",
    "                   \"C\":  100,\n",
    "                   \"D\":  500,\n",
    "                   \"M\": 1000}\n",
    "\n",
    "    num = 0\n",
    "    last = \"I\"\n",
    "\n",
    "    for numeral in s[::-1]:\n",
    "        if roman_table[numeral] < roman_table[last]:\n",
    "            num -= roman_table[numeral]\n",
    "        else:\n",
    "            num += roman_table[numeral]\n",
    "        last = numeral\n",
    "\n",
    "    print(num)"
   ]
  },
  {
   "cell_type": "code",
   "execution_count": 4,
   "id": "7db60897",
   "metadata": {},
   "outputs": [
    {
     "name": "stdout",
     "output_type": "stream",
     "text": [
      "4\n"
     ]
    }
   ],
   "source": [
    "romantoint(\"IV\")"
   ]
  },
  {
   "cell_type": "code",
   "execution_count": 5,
   "id": "b6f9669a",
   "metadata": {},
   "outputs": [
    {
     "name": "stdout",
     "output_type": "stream",
     "text": [
      "53\n"
     ]
    }
   ],
   "source": [
    "romantoint(\"LIII\")"
   ]
  },
  {
   "cell_type": "code",
   "execution_count": null,
   "id": "0000abc0",
   "metadata": {},
   "outputs": [],
   "source": []
  }
 ],
 "metadata": {
  "kernelspec": {
   "display_name": "Python 3 (ipykernel)",
   "language": "python",
   "name": "python3"
  },
  "language_info": {
   "codemirror_mode": {
    "name": "ipython",
    "version": 3
   },
   "file_extension": ".py",
   "mimetype": "text/x-python",
   "name": "python",
   "nbconvert_exporter": "python",
   "pygments_lexer": "ipython3",
   "version": "3.11.5"
  }
 },
 "nbformat": 4,
 "nbformat_minor": 5
}
