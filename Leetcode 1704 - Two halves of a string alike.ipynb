{
 "cells": [
  {
   "cell_type": "code",
   "execution_count": 7,
   "id": "388129bf",
   "metadata": {},
   "outputs": [],
   "source": [
    "#You are given a string s of even length. Split this string into two halves of equal lengths, \n",
    "#and let a be the first half and b be the second half.\n",
    "\n",
    "#Two strings are alike if they have the same number of vowels ('a', 'e', 'i', 'o', 'u', 'A', 'E', 'I', 'O', 'U'). \n",
    "#Notice that s contains uppercase and lowercase letters.\n",
    "\n",
    "#Return true if a and b are alike. Otherwise, return false.\n",
    "\n"
   ]
  },
  {
   "cell_type": "code",
   "execution_count": 22,
   "id": "12138e28",
   "metadata": {},
   "outputs": [
    {
     "name": "stdout",
     "output_type": "stream",
     "text": [
      "true\n"
     ]
    }
   ],
   "source": [
    "\n",
    "vowels = [\"a\",\"e\",\"i\",\"o\",\"u\",'A', 'E', 'I', 'O', 'U']\n",
    "evenstring = \"racecar aa racerar\"\n",
    "count = 0\n",
    "counttwo = 0\n",
    "\n",
    "def alikestrings(evenstring):\n",
    "    vowels = [\"a\",\"e\",\"i\",\"o\",\"u\",'A', 'E', 'I', 'O', 'U']\n",
    "    evenstring = \"racecar aa racerar\"\n",
    "    count = 0\n",
    "    counttwo = 0\n",
    "    \n",
    "    for i in range(int(len(evenstring)/2)):\n",
    "        if evenstring[i] in vowels:\n",
    "            count += 1\n",
    "\n",
    "    for i in range((int(len(evenstring)/2)),(int(len(evenstring)))):\n",
    "        if evenstring[i] in vowels:\n",
    "            counttwo += 1\n",
    "\n",
    "    if count == counttwo:\n",
    "        print(\"true\")\n",
    "    else:\n",
    "        print(\"false\")"
   ]
  },
  {
   "cell_type": "code",
   "execution_count": null,
   "id": "450dce5c",
   "metadata": {},
   "outputs": [],
   "source": []
  }
 ],
 "metadata": {
  "kernelspec": {
   "display_name": "Python 3 (ipykernel)",
   "language": "python",
   "name": "python3"
  },
  "language_info": {
   "codemirror_mode": {
    "name": "ipython",
    "version": 3
   },
   "file_extension": ".py",
   "mimetype": "text/x-python",
   "name": "python",
   "nbconvert_exporter": "python",
   "pygments_lexer": "ipython3",
   "version": "3.11.5"
  }
 },
 "nbformat": 4,
 "nbformat_minor": 5
}
