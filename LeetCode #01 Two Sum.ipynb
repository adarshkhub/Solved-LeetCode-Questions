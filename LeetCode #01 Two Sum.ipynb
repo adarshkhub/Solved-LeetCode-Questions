{
 "cells": [
  {
   "cell_type": "code",
   "execution_count": null,
   "id": "857a5a7b",
   "metadata": {},
   "outputs": [],
   "source": [
    "#Given an array of integers, return indices of the two numbers such that they add up to a specific target. \n",
    "#You may assume that each input would have exactly one solution, and you may not use the same element twice."
   ]
  },
  {
   "cell_type": "code",
   "execution_count": 9,
   "id": "2f0cefca",
   "metadata": {},
   "outputs": [],
   "source": [
    "numlist = [1,3,5,76,15,23,42,19]\n",
    "\n",
    "givennumber = 26\n",
    "#which two numbers give 26\n",
    "# output should be numlist[1], numlist[5]\n",
    "\n",
    "\n",
    "\n",
    "\n",
    "\n",
    "def twosum(givennumber):\n",
    "\n",
    "\n",
    "\n",
    "    for i in range(len(numlist)-1):\n",
    "        for j in range(i+1,len(numlist)):\n",
    "            if numlist[i] + numlist[j] == givennumber:\n",
    "                print(i,j)"
   ]
  },
  {
   "cell_type": "code",
   "execution_count": 6,
   "id": "5489bb27",
   "metadata": {},
   "outputs": [
    {
     "name": "stdout",
     "output_type": "stream",
     "text": [
      "1 5\n"
     ]
    }
   ],
   "source": [
    "twosum(26)"
   ]
  },
  {
   "cell_type": "code",
   "execution_count": 8,
   "id": "86a02292",
   "metadata": {},
   "outputs": [],
   "source": [
    "#Dictionary Storage Method (Hashmap method), faster runtime\n",
    "\n",
    "\n",
    "def leetone(givennumber):\n",
    "    \n",
    "    dic = {}\n",
    "    for i, num in enumerate(numlist):\n",
    "        if givennumber - num in dic:\n",
    "            print([dic[givennumber - num], i])\n",
    "        elif num not in dic:\n",
    "            dic[num] = i\n"
   ]
  },
  {
   "cell_type": "code",
   "execution_count": 10,
   "id": "ce30728d",
   "metadata": {},
   "outputs": [
    {
     "name": "stdout",
     "output_type": "stream",
     "text": [
      "[1, 5]\n"
     ]
    }
   ],
   "source": [
    "leetone(26)"
   ]
  },
  {
   "cell_type": "code",
   "execution_count": null,
   "id": "e37da1c0",
   "metadata": {},
   "outputs": [],
   "source": []
  }
 ],
 "metadata": {
  "kernelspec": {
   "display_name": "Python 3 (ipykernel)",
   "language": "python",
   "name": "python3"
  },
  "language_info": {
   "codemirror_mode": {
    "name": "ipython",
    "version": 3
   },
   "file_extension": ".py",
   "mimetype": "text/x-python",
   "name": "python",
   "nbconvert_exporter": "python",
   "pygments_lexer": "ipython3",
   "version": "3.11.5"
  }
 },
 "nbformat": 4,
 "nbformat_minor": 5
}
