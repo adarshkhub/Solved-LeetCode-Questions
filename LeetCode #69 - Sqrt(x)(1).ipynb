{
 "cells": [
  {
   "cell_type": "code",
   "execution_count": null,
   "id": "00d75fcf",
   "metadata": {},
   "outputs": [],
   "source": [
    "def sqrt(x):\n",
    "    l = 1\n",
    "    r = x\n",
    "    while l <= r:\n",
    "        mid = 1 + (r-1) // 2\n",
    "        if mid*mid > x: r = mid - 1\n",
    "        elif mid*mid < x: l = mid + 1\n",
    "        else: print(mid)\n",
    "    print(r)"
   ]
  },
  {
   "cell_type": "code",
   "execution_count": null,
   "id": "63d9c977",
   "metadata": {},
   "outputs": [],
   "source": [
    "sqrt(9)"
   ]
  },
  {
   "cell_type": "code",
   "execution_count": null,
   "id": "fa12650c",
   "metadata": {},
   "outputs": [],
   "source": []
  }
 ],
 "metadata": {
  "kernelspec": {
   "display_name": "Python 3 (ipykernel)",
   "language": "python",
   "name": "python3"
  },
  "language_info": {
   "codemirror_mode": {
    "name": "ipython",
    "version": 3
   },
   "file_extension": ".py",
   "mimetype": "text/x-python",
   "name": "python",
   "nbconvert_exporter": "python",
   "pygments_lexer": "ipython3",
   "version": "3.11.5"
  }
 },
 "nbformat": 4,
 "nbformat_minor": 5
}
